{
 "cells": [
  {
   "cell_type": "code",
   "execution_count": 1,
   "metadata": {},
   "outputs": [],
   "source": [
    "import os\n",
    "import re\n",
    "import pandas as pd\n",
    "\n",
    "from sqlalchemy import create_engine\n",
    "from dotenv import load_dotenv, find_dotenv\n",
    "\n",
    "load_dotenv(find_dotenv())\n",
    "\n",
    "# OBTER AS VARIÁVEIS DO ARQUIVO (.env)\n",
    "DB_HOST = os.getenv('DB_HOST_PROD')\n",
    "DB_PORT = os.getenv('DB_PORT_PROD')\n",
    "DB_NAME = os.getenv('DB_NAME_PROD')\n",
    "DB_USER = os.getenv('DB_USER_PROD')\n",
    "DB_PASS = os.getenv('DB_PASS_PROD')\n",
    "DB_SCHEMA = os.getenv('DB_SCHEMA_PROD')\n",
    "\n",
    "# CRIAR UMA URL DE CONEXÃO DO BANCO DE DADOS\n",
    "DATABASE_URL = f\"postgresql://{DB_USER}:{DB_PASS}@{DB_HOST}:{DB_PORT}/{DB_NAME}\"\n",
    "\n",
    "engine = create_engine(DATABASE_URL)\n"
   ]
  },
  {
   "cell_type": "code",
   "execution_count": 6,
   "metadata": {},
   "outputs": [
    {
     "name": "stdout",
     "output_type": "stream",
     "text": [
      "01.02.2024\n",
      "01.03.2023\n",
      "01.03.2024\n",
      "01.04.2024\n",
      "01.06.2023\n",
      "01.08.2023\n",
      "01.09.2023\n",
      "01.11.2023\n"
     ]
    }
   ],
   "source": [
    "folderPath = 'C:\\\\Users\\\\edinocencio\\\\getinvoiceETLPython\\\\data_sources\\\\'\n",
    "df_final = pd.DataFrame()\n",
    "\n",
    "for FileName in os.listdir(folderPath):\n",
    "    fullFilePath = folderPath + FileName\n",
    "\n",
    "    padrao = r\"(\\d{2}\\.\\d{2}\\.\\d{4})\"\n",
    "\n",
    "    # PROCURAR POR UMA CORRESPONDÊNCIA NA STRING USANDO A EXPRESSÃO REGULAR\n",
    "    correspondencia = re.search(padrao, fullFilePath)\n",
    "\n",
    "    if correspondencia:\n",
    "        texto_extraido = correspondencia.group(1)\n",
    "    \n",
    "    if os.path.isfile(fullFilePath):\n",
    "    # Abrindo o Data Frame\n",
    "        df = pd.read_excel(fullFilePath)\n",
    "        df['extractDate'] = texto_extraido\n",
    "        df_final = pd.concat([df_final,df])\n",
    "        \n",
    "        \n",
    "        print(texto_extraido)\n",
    "        \n"
   ]
  },
  {
   "cell_type": "code",
   "execution_count": 7,
   "metadata": {},
   "outputs": [
    {
     "name": "stdout",
     "output_type": "stream",
     "text": [
      "<class 'pandas.core.frame.DataFrame'>\n",
      "Index: 122062 entries, 0 to 15352\n",
      "Data columns (total 45 columns):\n",
      " #   Column                  Non-Null Count   Dtype         \n",
      "---  ------                  --------------   -----         \n",
      " 0   Branch                  122062 non-null  int64         \n",
      " 1   Contract                122062 non-null  int64         \n",
      " 2   B+C                     91695 non-null   object        \n",
      " 3   Contract Code           122062 non-null  object        \n",
      " 4   Instalment              122062 non-null  float64       \n",
      " 5   NAV                     122062 non-null  float64       \n",
      " 6   Arrear                  120587 non-null  float64       \n",
      " 7   Contract Type           122062 non-null  object        \n",
      " 8   Insurance Key           122062 non-null  int64         \n",
      " 9   Acceptance Date         122035 non-null  datetime64[ns]\n",
      " 10  End Of Lease Term       122062 non-null  datetime64[ns]\n",
      " 11  Lessee Name             122062 non-null  object        \n",
      " 12  Lessee Street           122062 non-null  object        \n",
      " 13  Lessee Postal Code      122062 non-null  object        \n",
      " 14  Lessee Town             122062 non-null  object        \n",
      " 15  Lessee Area             120050 non-null  object        \n",
      " 16  Lessee State            122036 non-null  object        \n",
      " 17  Lessee E-Mail           122018 non-null  object        \n",
      " 18  Lessee Phone            120326 non-null  object        \n",
      " 19  Lessee VATID            122054 non-null  object        \n",
      " 20  Reseller Area           122062 non-null  object        \n",
      " 21  Reseller Name           122062 non-null  object        \n",
      " 22  Reseller Number         122062 non-null  int64         \n",
      " 23  Broker Area             122062 non-null  object        \n",
      " 24  Broker Name             122062 non-null  object        \n",
      " 25  Broker Number           122062 non-null  int64         \n",
      " 26  Start Of Lease Term     122062 non-null  datetime64[ns]\n",
      " 27  Duration                122062 non-null  int64         \n",
      " 28  Annual Insurance Costs  122062 non-null  float64       \n",
      " 29  1/ Reminder             88029 non-null   datetime64[ns]\n",
      " 30  2/ Reminder             63692 non-null   datetime64[ns]\n",
      " 31  3/ Reminder             47880 non-null   datetime64[ns]\n",
      " 32  Termination             22573 non-null   datetime64[ns]\n",
      " 33  Customer number         122062 non-null  int64         \n",
      " 34  Asset no                122062 non-null  int64         \n",
      " 35  Asset type              122061 non-null  object        \n",
      " 36  Asset                   122062 non-null  object        \n",
      " 37  Manufacturer            122062 non-null  object        \n",
      " 38  Serasa Code             98849 non-null   object        \n",
      " 39  GL Score                107920 non-null  float64       \n",
      " 40  E4                      12908 non-null   object        \n",
      " 41  Request                 0 non-null       float64       \n",
      " 42  employee                0 non-null       float64       \n",
      " 43  extractDate             122062 non-null  object        \n",
      " 44  B&C                     30367 non-null   object        \n",
      "dtypes: datetime64[ns](7), float64(7), int64(8), object(23)\n",
      "memory usage: 42.8+ MB\n"
     ]
    }
   ],
   "source": [
    "df_final.info()"
   ]
  },
  {
   "cell_type": "code",
   "execution_count": 8,
   "metadata": {},
   "outputs": [
    {
     "data": {
      "text/plain": [
       "0        01.02.2024\n",
       "1        01.02.2024\n",
       "2        01.02.2024\n",
       "3        01.02.2024\n",
       "4        01.02.2024\n",
       "            ...    \n",
       "15348    01.11.2023\n",
       "15349    01.11.2023\n",
       "15350    01.11.2023\n",
       "15351    01.11.2023\n",
       "15352    01.11.2023\n",
       "Name: extractDate, Length: 122062, dtype: object"
      ]
     },
     "execution_count": 8,
     "metadata": {},
     "output_type": "execute_result"
    }
   ],
   "source": [
    "df_final['extractDate']"
   ]
  }
 ],
 "metadata": {
  "kernelspec": {
   "display_name": "venv",
   "language": "python",
   "name": "python3"
  },
  "language_info": {
   "codemirror_mode": {
    "name": "ipython",
    "version": 3
   },
   "file_extension": ".py",
   "mimetype": "text/x-python",
   "name": "python",
   "nbconvert_exporter": "python",
   "pygments_lexer": "ipython3",
   "version": "3.11.9"
  }
 },
 "nbformat": 4,
 "nbformat_minor": 2
}
